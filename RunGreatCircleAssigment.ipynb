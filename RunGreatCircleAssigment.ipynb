{
 "cells": [
  {
   "cell_type": "code",
   "execution_count": 7,
   "metadata": {},
   "outputs": [],
   "source": [
    "import subprocess\n",
    "from multiprocessing import Process\n",
    "import time"
   ]
  },
  {
   "cell_type": "code",
   "execution_count": 8,
   "metadata": {},
   "outputs": [
    {
     "name": "stdout",
     "output_type": "stream",
     "text": [
      "Python time 00:00:00\n"
     ]
    }
   ],
   "source": [
    "# run python\n",
    "timeStart = time.time()\n",
    "cmd = !python.RunGreatCircle.py\n",
    "runTime = time.time() - timeStart\n",
    "print(\"Python time\", time.strftime('%H:%M:%S', time.gmtime(runTime)))"
   ]
  },
  {
   "cell_type": "code",
   "execution_count": 9,
   "metadata": {},
   "outputs": [
    {
     "name": "stdout",
     "output_type": "stream",
     "text": [
      "Python time 00:00:04\n"
     ]
    }
   ],
   "source": [
    "timeStart = time.time()\n",
    "cmd = 'python RunGreatCircle.py'\n",
    "proc = subprocess.call(cmd,shell=True)\n",
    "runTime = time.time() - timeStart\n",
    "print(\"Python time\", time.strftime('%H:%M:%S', time.gmtime(runTime)))"
   ]
  },
  {
   "cell_type": "code",
   "execution_count": 10,
   "metadata": {},
   "outputs": [
    {
     "name": "stdout",
     "output_type": "stream",
     "text": [
      "Python time 00:00:00\n"
     ]
    }
   ],
   "source": [
    "# run python\n",
    "timeStart = time.time()\n",
    "cmd = !python.RunGreatCircleNumpy.py\n",
    "runTime = time.time() - timeStart\n",
    "print(\"Python time\", time.strftime('%H:%M:%S', time.gmtime(runTime)))"
   ]
  },
  {
   "cell_type": "code",
   "execution_count": 11,
   "metadata": {},
   "outputs": [
    {
     "name": "stdout",
     "output_type": "stream",
     "text": [
      "Python time 00:00:00\n"
     ]
    }
   ],
   "source": [
    "timeStart = time.time()\n",
    "cmd = 'python RunGreatCircleNumpy.py'\n",
    "proc = subprocess.call(cmd,shell=True)\n",
    "runTime = time.time() - timeStart\n",
    "print(\"Python time\", time.strftime('%H:%M:%S', time.gmtime(runTime)))"
   ]
  },
  {
   "cell_type": "code",
   "execution_count": 14,
   "metadata": {},
   "outputs": [
    {
     "name": "stdout",
     "output_type": "stream",
     "text": [
      "Python time 00:00:00\n"
     ]
    }
   ],
   "source": [
    "timeStart = time.time()\n",
    "if __name__ == '__main__':\n",
    "    p = Process(target='python RunGreatCircleNumpy.py')\n",
    "    p.start()\n",
    "    p.join()\n",
    "runTime = time.time() - timeStart\n",
    "print(\"Python time\", time.strftime('%H:%M:%S', time.gmtime(runTime)))"
   ]
  },
  {
   "cell_type": "code",
   "execution_count": 18,
   "metadata": {},
   "outputs": [
    {
     "name": "stdout",
     "output_type": "stream",
     "text": [
      "Python time 00:00:00\n"
     ]
    }
   ],
   "source": [
    "timeStart = time.time()\n",
    "if __name__ == '__main__':\n",
    "    p = Process(target='python RunGreatCircle.py')\n",
    "    p.start()\n",
    "    p.join()\n",
    "runTime = time.time() - timeStart\n",
    "print(\"Python time\", time.strftime('%H:%M:%S', time.gmtime(runTime)))"
   ]
  },
  {
   "cell_type": "code",
   "execution_count": null,
   "metadata": {},
   "outputs": [],
   "source": [
    "#new way\n",
    "#po = Pool(processes=cpu_count()-1)\n",
    "#results = po.map_async(calculate_great_circle,(m[i,:] for i in range(m.shape[0])))\n",
    "#results =  _results.get()"
   ]
  }
 ],
 "metadata": {
  "kernelspec": {
   "display_name": "Python 3",
   "language": "python",
   "name": "python3"
  },
  "language_info": {
   "codemirror_mode": {
    "name": "ipython",
    "version": 3
   },
   "file_extension": ".py",
   "mimetype": "text/x-python",
   "name": "python",
   "nbconvert_exporter": "python",
   "pygments_lexer": "ipython3",
   "version": "3.7.4"
  }
 },
 "nbformat": 4,
 "nbformat_minor": 4
}
